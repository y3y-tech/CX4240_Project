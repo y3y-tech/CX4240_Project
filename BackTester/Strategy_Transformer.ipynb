{
 "cells": [
  {
   "cell_type": "code",
   "execution_count": 5,
   "metadata": {},
   "outputs": [],
   "source": [
    "from backtesting import Backtest, Strategy\n",
    "import talib\n",
    "from sklearn.model_selection import train_test_split\n",
    "from sklearn.ensemble import RandomForestClassifier\n",
    "import pandas as pd\n",
    "import numpy as np"
   ]
  },
  {
   "cell_type": "markdown",
   "metadata": {},
   "source": [
    "## Load Data"
   ]
  },
  {
   "cell_type": "code",
   "execution_count": 2,
   "metadata": {},
   "outputs": [
    {
     "name": "stdout",
     "output_type": "stream",
     "text": [
      "Index(['Price', 'Close', 'High', 'Low', 'Open', 'Volume', 'Return', 'MA5',\n",
      "       'MA10', 'MA20', 'Volatility', 'Momentum', 'Target'],\n",
      "      dtype='object')\n"
     ]
    }
   ],
   "source": [
    "df = pd.read_csv(\"../Data/^GSPC.csv\")\n",
    "df = df[df[\"Price\"] != \"Ticker\"]\n",
    "df = df[df[\"Price\"] != \"Date\"]\n",
    "df[['Close','High', 'Low', 'Open', 'Volume']]= df[['Close', 'High', 'Low', 'Open', 'Volume']].astype(float)\n",
    "print(df.columns)\n",
    "df['Price'] = pd.to_datetime(df['Price'])\n",
    "df.set_index('Price', inplace=True)\n",
    "df.index.name = None"
   ]
  },
  {
   "cell_type": "markdown",
   "metadata": {},
   "source": [
    "## Trading Function"
   ]
  },
  {
   "cell_type": "code",
   "execution_count": null,
   "metadata": {},
   "outputs": [],
   "source": [
    "def add_features(data):\n",
    "    \"\"\"Use existing features and add additional ones for ML model\"\"\"\n",
    "    df = data.copy()\n",
    "    \n",
    "    # Use the existing indicators (MA5, MA10, MA20, Volatility, Momentum)\n",
    "    # and create additional features from them\n",
    "    \n",
    "    # Normalized price distances from MAs\n",
    "    df['X_MA5'] = (df.Close - df.MA5) / df.Close\n",
    "    df['X_MA10'] = (df.Close - df.MA10) / df.Close\n",
    "    df['X_MA20'] = (df.Close - df.MA20) / df.Close\n",
    "    \n",
    "    # MA crossovers\n",
    "    df['X_MA5_10'] = (df.MA5 - df.MA10) / df.Close\n",
    "    df['X_MA10_20'] = (df.MA10 - df.MA20) / df.Close\n",
    "    \n",
    "    # Use existing Volatility and Momentum\n",
    "    df['X_Volatility'] = df.Volatility\n",
    "    df['X_Momentum'] = df.Momentum\n",
    "    \n",
    "    # Relative return features\n",
    "    df['X_Return'] = df.Return\n",
    "    df['X_Return_5'] = df.Return.rolling(5).sum()\n",
    "    \n",
    "    # Volume features\n",
    "    df['X_VOL_CHG'] = df.Volume.pct_change(5)\n",
    "    \n",
    "    # Use existing Target if not binary, otherwise keep as is\n",
    "    if 'Target' in df.columns and set(df.Target.dropna().unique()) != {0, 1}:\n",
    "        # Convert to our desired format if it's not already binary\n",
    "        df['Target_orig'] = df.Target\n",
    "        df['Target'] = np.where(df.Return.shift(-1) > 0.005, 1,    # Long if >0.5% up\n",
    "                       np.where(df.Return.shift(-1) < -0.005, -1,  # Short if >0.5% down\n",
    "                       0))                                         # No position if in between\n",
    "    \n",
    "    return df.dropna()\n",
    "\n",
    "def get_X(data):\n",
    "    \"\"\"Return feature matrix X\"\"\"\n",
    "    feature_columns = [col for col in data.columns if col.startswith('X_')]\n",
    "    return data[feature_columns].values\n",
    "\n",
    "def get_y(data):\n",
    "    \"\"\"Return target variable y\"\"\"\n",
    "    return data.Target.values\n",
    "\n",
    "\n",
    "class RandomForestStrategy(Strategy):\n",
    "    n_estimators = 100  # Number of trees in the forest\n",
    "    price_delta = 0.01  # 1% for take-profit and stop-loss\n",
    "    train_size = 500    # Number of bars to use for training\n",
    "    \n",
    "    def init(self):\n",
    "        # Prepare the data with features\n",
    "        self.all_data = add_features(self.data.df)\n",
    "        \n",
    "        # Initialize the model - RandomForestClassifier\n",
    "        self.model = RandomForestClassifier(\n",
    "            n_estimators=self.n_estimators,\n",
    "            max_depth=5,\n",
    "            min_samples_split=10,\n",
    "            random_state=42\n",
    "        )\n",
    "        \n",
    "        # Train the model on the first train_size bars\n",
    "        train_data = self.all_data.iloc[:self.train_size]\n",
    "        X_train = get_X(train_data)\n",
    "        y_train = get_y(train_data)\n",
    "        \n",
    "        # Only keep valid targets (1 or -1)\n",
    "        mask = (y_train == 1) | (y_train == -1)\n",
    "        X_train, y_train = X_train[mask], y_train[mask]\n",
    "        \n",
    "        self.model.fit(X_train, y_train)\n",
    "        \n",
    "        # Initialize prediction indicator only\n",
    "        self.prediction = self.I(lambda: np.zeros(len(self.data)), name='prediction')\n",
    "        \n",
    "    def next(self):\n",
    "        # Skip if we don't have enough data\n",
    "        if len(self.data) <= self.train_size:\n",
    "            return\n",
    "            \n",
    "        # Check if current index exists in our processed data\n",
    "        current_idx = self.data.index[-1]\n",
    "        if current_idx not in self.all_data.index:\n",
    "            return\n",
    "        \n",
    "        # Current bar's features\n",
    "        current_row_idx = self.all_data.index.get_loc(current_idx)\n",
    "        features = get_X(self.all_data.iloc[[current_row_idx]])\n",
    "        \n",
    "        # Predict on current features\n",
    "        try:\n",
    "            prediction = self.model.predict(features)[0]\n",
    "            # Update plot indicator\n",
    "            self.prediction[-1] = prediction\n",
    "        except:\n",
    "            # In case of errors, don't make a prediction\n",
    "            prediction = 0\n",
    "            \n",
    "        # Current prices\n",
    "        close = self.data.Close[-1]\n",
    "        \n",
    "        # Set take-profit and stop-loss levels\n",
    "        tp_long = close * (1 + self.price_delta)\n",
    "        sl_long = close * (1 - self.price_delta)\n",
    "        tp_short = close * (1 - self.price_delta)\n",
    "        sl_short = close * (1 + self.price_delta)\n",
    "        \n",
    "        # Execute trades based on model prediction\n",
    "        if prediction == 1 and not self.position.is_long:\n",
    "            # Close any existing short position first\n",
    "            if self.position.is_short:\n",
    "                self.position.close()\n",
    "            # Enter long position\n",
    "            self.buy(size=0.2, tp=tp_long, sl=sl_long)\n",
    "            \n",
    "        elif prediction == -1 and not self.position.is_short:\n",
    "            # Close any existing long position first\n",
    "            if self.position.is_long:\n",
    "                self.position.close()\n",
    "            # Enter short position\n",
    "            self.sell(size=0.2, tp=tp_short, sl=sl_short)\n",
    "        \n",
    "        # Risk management for existing trades\n",
    "        for trade in self.trades:\n",
    "            # If trade is open more than 5 days, tighten stop loss\n",
    "            if self.data.index[-1] - trade.entry_time > pd.Timedelta(days=5):\n",
    "                if trade.is_long:\n",
    "                    # Move stop loss up to entry price to avoid bigger losses\n",
    "                    trade.sl = max(trade.sl, trade.entry_price)\n",
    "                else:\n",
    "                    # Move stop loss down to entry price to avoid bigger losses\n",
    "                    trade.sl = min(trade.sl, trade.entry_price)\n"
   ]
  },
  {
   "cell_type": "code",
   "execution_count": 13,
   "metadata": {},
   "outputs": [
    {
     "data": {
      "application/vnd.jupyter.widget-view+json": {
       "model_id": "b1c4e6f6b0b84ffabbd9e7bb304aca07",
       "version_major": 2,
       "version_minor": 0
      },
      "text/plain": [
       "Backtest.run:   0%|          | 0/986 [00:00<?, ?bar/s]"
      ]
     },
     "metadata": {},
     "output_type": "display_data"
    },
    {
     "ename": "TypeError",
     "evalue": "'<=' not supported between instances of 'int' and 'Timestamp'",
     "output_type": "error",
     "traceback": [
      "\u001b[0;31m---------------------------------------------------------------------------\u001b[0m",
      "\u001b[0;31mTypeError\u001b[0m                                 Traceback (most recent call last)",
      "Cell \u001b[0;32mIn[13], line 2\u001b[0m\n\u001b[1;32m      1\u001b[0m bt \u001b[38;5;241m=\u001b[39m Backtest(df, RandomForestStrategy, cash\u001b[38;5;241m=\u001b[39m\u001b[38;5;241m10_000\u001b[39m, commission\u001b[38;5;241m=\u001b[39m\u001b[38;5;241m.0002\u001b[39m, margin\u001b[38;5;241m=\u001b[39m\u001b[38;5;241m0.05\u001b[39m)\n\u001b[0;32m----> 2\u001b[0m bt\u001b[38;5;241m.\u001b[39mrun()\n",
      "File \u001b[0;32m/opt/anaconda3/lib/python3.12/site-packages/backtesting/backtesting.py:1326\u001b[0m, in \u001b[0;36mBacktest.run\u001b[0;34m(self, **kwargs)\u001b[0m\n\u001b[1;32m   1323\u001b[0m         \u001b[38;5;28;01mbreak\u001b[39;00m\n\u001b[1;32m   1325\u001b[0m     \u001b[38;5;66;03m# Next tick, a moment before bar close\u001b[39;00m\n\u001b[0;32m-> 1326\u001b[0m     strategy\u001b[38;5;241m.\u001b[39mnext()\n\u001b[1;32m   1327\u001b[0m \u001b[38;5;28;01melse\u001b[39;00m:\n\u001b[1;32m   1328\u001b[0m     \u001b[38;5;28;01mif\u001b[39;00m \u001b[38;5;28mself\u001b[39m\u001b[38;5;241m.\u001b[39m_finalize_trades \u001b[38;5;129;01mis\u001b[39;00m \u001b[38;5;28;01mTrue\u001b[39;00m:\n\u001b[1;32m   1329\u001b[0m         \u001b[38;5;66;03m# Close any remaining open trades so they produce some stats\u001b[39;00m\n",
      "Cell \u001b[0;32mIn[12], line 81\u001b[0m, in \u001b[0;36mRandomForestStrategy.next\u001b[0;34m(self)\u001b[0m\n\u001b[1;32m     79\u001b[0m \u001b[38;5;28;01mdef\u001b[39;00m \u001b[38;5;21mnext\u001b[39m(\u001b[38;5;28mself\u001b[39m):\n\u001b[1;32m     80\u001b[0m     \u001b[38;5;66;03m# Skip if we don't have enough data\u001b[39;00m\n\u001b[0;32m---> 81\u001b[0m     \u001b[38;5;28;01mif\u001b[39;00m \u001b[38;5;28mlen\u001b[39m(\u001b[38;5;28mself\u001b[39m\u001b[38;5;241m.\u001b[39mdata) \u001b[38;5;241m<\u001b[39m\u001b[38;5;241m=\u001b[39m \u001b[38;5;28mself\u001b[39m\u001b[38;5;241m.\u001b[39mtrain_size \u001b[38;5;129;01mor\u001b[39;00m \u001b[38;5;28mlen\u001b[39m(\u001b[38;5;28mself\u001b[39m\u001b[38;5;241m.\u001b[39mall_data) \u001b[38;5;241m<\u001b[39m\u001b[38;5;241m=\u001b[39m \u001b[38;5;28mself\u001b[39m\u001b[38;5;241m.\u001b[39mdata\u001b[38;5;241m.\u001b[39mindex[\u001b[38;5;241m-\u001b[39m\u001b[38;5;241m1\u001b[39m]:\n\u001b[1;32m     82\u001b[0m         \u001b[38;5;28;01mreturn\u001b[39;00m\n\u001b[1;32m     84\u001b[0m     \u001b[38;5;66;03m# Current bar's features\u001b[39;00m\n",
      "\u001b[0;31mTypeError\u001b[0m: '<=' not supported between instances of 'int' and 'Timestamp'"
     ]
    }
   ],
   "source": [
    "bt = Backtest(df, RandomForestStrategy, cash=10_000, commission=.0002, margin=0.05)\n",
    "bt.run()\n"
   ]
  },
  {
   "cell_type": "code",
   "execution_count": null,
   "metadata": {},
   "outputs": [
    {
     "ename": "RuntimeError",
     "evalue": "First issue `backtest.run()` to obtain results.",
     "output_type": "error",
     "traceback": [
      "\u001b[0;31m---------------------------------------------------------------------------\u001b[0m",
      "\u001b[0;31mRuntimeError\u001b[0m                              Traceback (most recent call last)",
      "Cell \u001b[0;32mIn[8], line 1\u001b[0m\n\u001b[0;32m----> 1\u001b[0m bt\u001b[38;5;241m.\u001b[39mplot()\n",
      "File \u001b[0;32m/opt/anaconda3/lib/python3.12/site-packages/backtesting/backtesting.py:1713\u001b[0m, in \u001b[0;36mBacktest.plot\u001b[0;34m(self, results, filename, plot_width, plot_equity, plot_return, plot_pl, plot_volume, plot_drawdown, plot_trades, smooth_equity, relative_equity, superimpose, resample, reverse_indicators, show_legend, open_browser)\u001b[0m\n\u001b[1;32m   1711\u001b[0m \u001b[38;5;28;01mif\u001b[39;00m results \u001b[38;5;129;01mis\u001b[39;00m \u001b[38;5;28;01mNone\u001b[39;00m:\n\u001b[1;32m   1712\u001b[0m     \u001b[38;5;28;01mif\u001b[39;00m \u001b[38;5;28mself\u001b[39m\u001b[38;5;241m.\u001b[39m_results \u001b[38;5;129;01mis\u001b[39;00m \u001b[38;5;28;01mNone\u001b[39;00m:\n\u001b[0;32m-> 1713\u001b[0m         \u001b[38;5;28;01mraise\u001b[39;00m \u001b[38;5;167;01mRuntimeError\u001b[39;00m(\u001b[38;5;124m'\u001b[39m\u001b[38;5;124mFirst issue `backtest.run()` to obtain results.\u001b[39m\u001b[38;5;124m'\u001b[39m)\n\u001b[1;32m   1714\u001b[0m     results \u001b[38;5;241m=\u001b[39m \u001b[38;5;28mself\u001b[39m\u001b[38;5;241m.\u001b[39m_results\n\u001b[1;32m   1716\u001b[0m \u001b[38;5;28;01mreturn\u001b[39;00m plot(\n\u001b[1;32m   1717\u001b[0m     results\u001b[38;5;241m=\u001b[39mresults,\n\u001b[1;32m   1718\u001b[0m     df\u001b[38;5;241m=\u001b[39m\u001b[38;5;28mself\u001b[39m\u001b[38;5;241m.\u001b[39m_data,\n\u001b[0;32m   (...)\u001b[0m\n\u001b[1;32m   1733\u001b[0m     show_legend\u001b[38;5;241m=\u001b[39mshow_legend,\n\u001b[1;32m   1734\u001b[0m     open_browser\u001b[38;5;241m=\u001b[39mopen_browser)\n",
      "\u001b[0;31mRuntimeError\u001b[0m: First issue `backtest.run()` to obtain results."
     ]
    }
   ],
   "source": []
  }
 ],
 "metadata": {
  "kernelspec": {
   "display_name": "base",
   "language": "python",
   "name": "python3"
  },
  "language_info": {
   "codemirror_mode": {
    "name": "ipython",
    "version": 3
   },
   "file_extension": ".py",
   "mimetype": "text/x-python",
   "name": "python",
   "nbconvert_exporter": "python",
   "pygments_lexer": "ipython3",
   "version": "3.12.2"
  }
 },
 "nbformat": 4,
 "nbformat_minor": 2
}
