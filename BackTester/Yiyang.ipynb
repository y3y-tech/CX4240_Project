{
 "cells": [
  {
   "cell_type": "code",
   "execution_count": null,
   "metadata": {},
   "outputs": [],
   "source": [
    "from backtesting import Backtest, Strategy\n",
    "import yfinance as yf\n",
    "import talib\n",
    "from backtesting.lib import crossover\n",
    "import pandas as pd\n",
    "import datetime"
   ]
  },
  {
   "cell_type": "code",
   "execution_count": 4,
   "metadata": {},
   "outputs": [],
   "source": [
    "class RsiOscillator(Strategy):\n",
    "\n",
    "    upper_bound = 70\n",
    "    lower_bound = 30\n",
    "\n",
    "    def init(self):\n",
    "        self.rsi = self.I(talib.RSI, self.data.Close, 14)\n",
    "\n",
    "    def next(self):\n",
    "\n",
    "        if crossover(self.rsi, self.upper_bound):\n",
    "            self.position.close()\n",
    "\n",
    "        elif crossover(self.lower_bound, self.rsi):\n",
    "            self.buy()\n"
   ]
  },
  {
   "cell_type": "code",
   "execution_count": 28,
   "metadata": {},
   "outputs": [
    {
     "name": "stdout",
     "output_type": "stream",
     "text": [
      "        Price              Close               High                Low  \\\n",
      "0      Ticker              ^GSPC              ^GSPC              ^GSPC   \n",
      "1        Date                NaN                NaN                NaN   \n",
      "2  2020-01-30  3283.659912109375  3285.909912109375  3242.800048828125   \n",
      "3  2020-01-31   3225.52001953125     3282.330078125  3214.679931640625   \n",
      "4  2020-02-03     3248.919921875   3268.43994140625  3235.659912109375   \n",
      "\n",
      "                Open      Volume    Return          MA5         MA10  \\\n",
      "0              ^GSPC       ^GSPC       NaN          NaN          NaN   \n",
      "1                NaN         NaN       NaN          NaN          NaN   \n",
      "2  3256.449951171875  3790350000  0.003134  3274.479932  3298.690991   \n",
      "3     3282.330078125  4529700000 -0.017706  3260.489941  3289.561987   \n",
      "4  3235.659912109375  3760460000  0.007255  3261.547949  3281.491968   \n",
      "\n",
      "          MA20  Volatility   Momentum  Target  \n",
      "0          NaN         NaN        NaN     NaN  \n",
      "1          NaN         NaN        NaN     NaN  \n",
      "2  3280.837000    0.007703 -41.880127     0.0  \n",
      "3  3279.220496    0.008832 -69.949951     1.0  \n",
      "4  3279.923987    0.009172   5.290039     1.0  \n"
     ]
    }
   ],
   "source": [
    "df = pd.read_csv(\"../Data/^GSPC.csv\")\n",
    "print(df.head())"
   ]
  },
  {
   "cell_type": "code",
   "execution_count": 29,
   "metadata": {},
   "outputs": [
    {
     "data": {
      "text/html": [
       "<div>\n",
       "<style scoped>\n",
       "    .dataframe tbody tr th:only-of-type {\n",
       "        vertical-align: middle;\n",
       "    }\n",
       "\n",
       "    .dataframe tbody tr th {\n",
       "        vertical-align: top;\n",
       "    }\n",
       "\n",
       "    .dataframe thead th {\n",
       "        text-align: right;\n",
       "    }\n",
       "</style>\n",
       "<table border=\"1\" class=\"dataframe\">\n",
       "  <thead>\n",
       "    <tr style=\"text-align: right;\">\n",
       "      <th></th>\n",
       "      <th>Price</th>\n",
       "      <th>Close</th>\n",
       "      <th>High</th>\n",
       "      <th>Low</th>\n",
       "      <th>Open</th>\n",
       "      <th>Volume</th>\n",
       "      <th>Return</th>\n",
       "      <th>MA5</th>\n",
       "      <th>MA10</th>\n",
       "      <th>MA20</th>\n",
       "      <th>Volatility</th>\n",
       "      <th>Momentum</th>\n",
       "      <th>Target</th>\n",
       "    </tr>\n",
       "  </thead>\n",
       "  <tbody>\n",
       "    <tr>\n",
       "      <th>2</th>\n",
       "      <td>2020-01-30</td>\n",
       "      <td>3283.659912109375</td>\n",
       "      <td>3285.909912109375</td>\n",
       "      <td>3242.800048828125</td>\n",
       "      <td>3256.449951171875</td>\n",
       "      <td>3790350000</td>\n",
       "      <td>0.003134</td>\n",
       "      <td>3274.479932</td>\n",
       "      <td>3298.690991</td>\n",
       "      <td>3280.837000</td>\n",
       "      <td>0.007703</td>\n",
       "      <td>-41.880127</td>\n",
       "      <td>0.0</td>\n",
       "    </tr>\n",
       "    <tr>\n",
       "      <th>3</th>\n",
       "      <td>2020-01-31</td>\n",
       "      <td>3225.52001953125</td>\n",
       "      <td>3282.330078125</td>\n",
       "      <td>3214.679931640625</td>\n",
       "      <td>3282.330078125</td>\n",
       "      <td>4529700000</td>\n",
       "      <td>-0.017706</td>\n",
       "      <td>3260.489941</td>\n",
       "      <td>3289.561987</td>\n",
       "      <td>3279.220496</td>\n",
       "      <td>0.008832</td>\n",
       "      <td>-69.949951</td>\n",
       "      <td>1.0</td>\n",
       "    </tr>\n",
       "    <tr>\n",
       "      <th>4</th>\n",
       "      <td>2020-02-03</td>\n",
       "      <td>3248.919921875</td>\n",
       "      <td>3268.43994140625</td>\n",
       "      <td>3235.659912109375</td>\n",
       "      <td>3235.659912109375</td>\n",
       "      <td>3760460000</td>\n",
       "      <td>0.007255</td>\n",
       "      <td>3261.547949</td>\n",
       "      <td>3281.491968</td>\n",
       "      <td>3279.923987</td>\n",
       "      <td>0.009172</td>\n",
       "      <td>5.290039</td>\n",
       "      <td>1.0</td>\n",
       "    </tr>\n",
       "    <tr>\n",
       "      <th>5</th>\n",
       "      <td>2020-02-04</td>\n",
       "      <td>3297.590087890625</td>\n",
       "      <td>3306.919921875</td>\n",
       "      <td>3280.610107421875</td>\n",
       "      <td>3280.610107421875</td>\n",
       "      <td>3996900000</td>\n",
       "      <td>0.014980</td>\n",
       "      <td>3265.817969</td>\n",
       "      <td>3279.171973</td>\n",
       "      <td>3282.489490</td>\n",
       "      <td>0.010690</td>\n",
       "      <td>21.350098</td>\n",
       "      <td>1.0</td>\n",
       "    </tr>\n",
       "    <tr>\n",
       "      <th>6</th>\n",
       "      <td>2020-02-05</td>\n",
       "      <td>3334.68994140625</td>\n",
       "      <td>3337.580078125</td>\n",
       "      <td>3313.75</td>\n",
       "      <td>3324.909912109375</td>\n",
       "      <td>4121480000</td>\n",
       "      <td>0.011251</td>\n",
       "      <td>3278.075977</td>\n",
       "      <td>3280.465967</td>\n",
       "      <td>3287.364990</td>\n",
       "      <td>0.011340</td>\n",
       "      <td>61.290039</td>\n",
       "      <td>1.0</td>\n",
       "    </tr>\n",
       "  </tbody>\n",
       "</table>\n",
       "</div>"
      ],
      "text/plain": [
       "        Price              Close               High                Low  \\\n",
       "2  2020-01-30  3283.659912109375  3285.909912109375  3242.800048828125   \n",
       "3  2020-01-31   3225.52001953125     3282.330078125  3214.679931640625   \n",
       "4  2020-02-03     3248.919921875   3268.43994140625  3235.659912109375   \n",
       "5  2020-02-04  3297.590087890625     3306.919921875  3280.610107421875   \n",
       "6  2020-02-05   3334.68994140625     3337.580078125            3313.75   \n",
       "\n",
       "                Open      Volume    Return          MA5         MA10  \\\n",
       "2  3256.449951171875  3790350000  0.003134  3274.479932  3298.690991   \n",
       "3     3282.330078125  4529700000 -0.017706  3260.489941  3289.561987   \n",
       "4  3235.659912109375  3760460000  0.007255  3261.547949  3281.491968   \n",
       "5  3280.610107421875  3996900000  0.014980  3265.817969  3279.171973   \n",
       "6  3324.909912109375  4121480000  0.011251  3278.075977  3280.465967   \n",
       "\n",
       "          MA20  Volatility   Momentum  Target  \n",
       "2  3280.837000    0.007703 -41.880127     0.0  \n",
       "3  3279.220496    0.008832 -69.949951     1.0  \n",
       "4  3279.923987    0.009172   5.290039     1.0  \n",
       "5  3282.489490    0.010690  21.350098     1.0  \n",
       "6  3287.364990    0.011340  61.290039     1.0  "
      ]
     },
     "execution_count": 29,
     "metadata": {},
     "output_type": "execute_result"
    }
   ],
   "source": [
    "df = df[df[\"Price\"] != \"Ticker\"]\n",
    "df = df[df[\"Price\"] != \"Date\"]\n",
    "df.head()\n"
   ]
  },
  {
   "cell_type": "code",
   "execution_count": null,
   "metadata": {},
   "outputs": [
    {
     "name": "stdout",
     "output_type": "stream",
     "text": [
      "Index(['Price', 'Close', 'High', 'Low', 'Open', 'Volume', 'Return', 'MA5',\n",
      "       'MA10', 'MA20', 'Volatility', 'Momentum', 'Target'],\n",
      "      dtype='object')\n"
     ]
    }
   ],
   "source": [
    "df[['Close','High', 'Low', 'Open', 'Volume']]= df[['Close', 'High', 'Low', 'Open', 'Volume']].astype(float)\n",
    "df[['Price']] = df[['Price']].astype(datetime.date)"
   ]
  },
  {
   "cell_type": "code",
   "execution_count": 22,
   "metadata": {},
   "outputs": [
    {
     "name": "stderr",
     "output_type": "stream",
     "text": [
      "/opt/anaconda3/lib/python3.12/site-packages/backtesting/backtesting.py:1200: FutureWarning: Index.is_numeric is deprecated. Use pandas.api.types.is_any_real_numeric_dtype instead\n",
      "  (data.index.is_numeric() and\n",
      "/var/folders/bg/6x82p8q55dxf8pb_c34j03mm0000gn/T/ipykernel_56657/1631258731.py:1: UserWarning: Data index is not datetime. Assuming simple periods, but `pd.DateTimeIndex` is advised.\n",
      "  bt = Backtest(df, RsiOscillator, cash = 10_000)\n"
     ]
    }
   ],
   "source": [
    "bt = Backtest(df, RsiOscillator, cash = 10_000)"
   ]
  },
  {
   "cell_type": "code",
   "execution_count": 24,
   "metadata": {},
   "outputs": [
    {
     "data": {
      "application/vnd.jupyter.widget-view+json": {
       "model_id": "7b91e0dab0874abaace9bb63b70cbd84",
       "version_major": 2,
       "version_minor": 0
      },
      "text/plain": [
       "Backtest.run:   0%|          | 0/972 [00:00<?, ?bar/s]"
      ]
     },
     "metadata": {},
     "output_type": "display_data"
    },
    {
     "name": "stdout",
     "output_type": "stream",
     "text": [
      "Start                                     2.0\n",
      "End                                     988.0\n",
      "Duration                                986.0\n",
      "Exposure Time [%]                    43.26241\n",
      "Equity Final [$]                  12652.18066\n",
      "Equity Peak [$]                   12669.40039\n",
      "Return [%]                           26.52181\n",
      "Buy & Hold Return [%]                41.40246\n",
      "Return (Ann.) [%]                         0.0\n",
      "Volatility (Ann.) [%]                     NaN\n",
      "Sharpe Ratio                              NaN\n",
      "Sortino Ratio                             NaN\n",
      "Calmar Ratio                              0.0\n",
      "Alpha [%]                             1.53349\n",
      "Beta                                  0.60355\n",
      "Max. Drawdown [%]                   -25.17149\n",
      "Avg. Drawdown [%]                    -4.21311\n",
      "Max. Drawdown Duration                  170.0\n",
      "Avg. Drawdown Duration               31.52941\n",
      "# Trades                                  4.0\n",
      "Win Rate [%]                             75.0\n",
      "Best Trade [%]                       18.56155\n",
      "Worst Trade [%]                      -1.99594\n",
      "Avg. Trade [%]                        8.11914\n",
      "Max. Trade Duration                     180.0\n",
      "Avg. Trade Duration                    105.75\n",
      "Profit Factor                        17.76943\n",
      "Expectancy [%]                        8.36771\n",
      "SQN                                   2.06794\n",
      "Kelly Criterion                       0.70385\n",
      "_strategy                       RsiOscillator\n",
      "_equity_curve                       Equity...\n",
      "_trades                      Size  EntryBa...\n",
      "dtype: object\n"
     ]
    },
    {
     "name": "stderr",
     "output_type": "stream",
     "text": [
      "/opt/anaconda3/lib/python3.12/site-packages/backtesting/backtesting.py:954: UserWarning: time=27: Broker canceled the relative-sized order due to insufficient margin.\n",
      "  warnings.warn(\n",
      "/opt/anaconda3/lib/python3.12/site-packages/backtesting/backtesting.py:954: UserWarning: time=30: Broker canceled the relative-sized order due to insufficient margin.\n",
      "  warnings.warn(\n",
      "/opt/anaconda3/lib/python3.12/site-packages/backtesting/backtesting.py:954: UserWarning: time=674: Broker canceled the relative-sized order due to insufficient margin.\n",
      "  warnings.warn(\n",
      "/opt/anaconda3/lib/python3.12/site-packages/backtesting/backtesting.py:954: UserWarning: time=944: Broker canceled the relative-sized order due to insufficient margin.\n",
      "  warnings.warn(\n"
     ]
    }
   ],
   "source": [
    "stats = bt.run()\n",
    "print(stats)"
   ]
  }
 ],
 "metadata": {
  "kernelspec": {
   "display_name": "base",
   "language": "python",
   "name": "python3"
  },
  "language_info": {
   "codemirror_mode": {
    "name": "ipython",
    "version": 3
   },
   "file_extension": ".py",
   "mimetype": "text/x-python",
   "name": "python",
   "nbconvert_exporter": "python",
   "pygments_lexer": "ipython3",
   "version": "3.12.2"
  }
 },
 "nbformat": 4,
 "nbformat_minor": 2
}
